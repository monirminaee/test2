{
  "nbformat": 4,
  "nbformat_minor": 0,
  "metadata": {
    "colab": {
      "provenance": [],
      "authorship_tag": "ABX9TyOX5Tyniaz6gOug0DWuFXVx",
      "include_colab_link": true
    },
    "kernelspec": {
      "name": "python3",
      "display_name": "Python 3"
    },
    "language_info": {
      "name": "python"
    }
  },
  "cells": [
    {
      "cell_type": "markdown",
      "metadata": {
        "id": "view-in-github",
        "colab_type": "text"
      },
      "source": [
        "<a href=\"https://colab.research.google.com/github/monirminaee/test2/blob/main/Untitled26.ipynb\" target=\"_parent\"><img src=\"https://colab.research.google.com/assets/colab-badge.svg\" alt=\"Open In Colab\"/></a>"
      ]
    },
    {
      "cell_type": "code",
      "execution_count": null,
      "metadata": {
        "id": "b2fvbWrszzk-"
      },
      "outputs": [],
      "source": []
    },
    {
      "cell_type": "code",
      "source": [
        "import numpy as np\n",
        "from sklearn.cluster import MeanShift, estimate_bandwidth\n",
        "import alphashape\n",
        "from shapely.geometry import Point\n",
        "import matplotlib.pyplot as plt\n",
        "\n",
        "# نمونه داده\n",
        "coords = np.array([\n",
        "     [35.6892, 51.3890], [35.8400, 50.9390], [35.5690, 51.1670], [35.6590, 50.9180], [35.5994, 51.4392],\n",
        "    [36.2605, 59.6168], [36.2133, 58.7969], [36.2125, 57.6792], [36.4756, 59.1433], [35.2590, 57.9640],\n",
        "    [32.6578, 51.6776], [33.9850, 51.4250], [32.6390, 51.4590], [32.6610, 51.5300], [32.5320, 51.4920],\n",
        "    [29.5918, 52.5836], [29.8720, 52.8200], [28.9380, 53.6480], [28.5150, 53.5600], [29.6180, 51.6510],\n",
        "    [31.3200, 48.6700], [30.3370, 48.3040], [30.4410, 48.1800], [32.3800, 48.4250], [31.9640, 49.2840],\n",
        "    [30.2830, 57.0830], [29.1070, 58.3560], [30.4060, 55.9960], [29.4500, 55.6710], [30.8120, 56.5680],\n",
        "    [31.8974, 54.3569], [31.9020, 54.3640],\n",
        "    [34.7980, 48.5140], [34.7990, 48.5155]\n",
        "])\n"
      ],
      "metadata": {
        "id": "jln_1jSbw9be"
      },
      "execution_count": null,
      "outputs": []
    }
  ]
}