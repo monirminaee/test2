{
  "nbformat": 4,
  "nbformat_minor": 0,
  "metadata": {
    "colab": {
      "provenance": [],
      "authorship_tag": "ABX9TyNHvyDXbNbfSzLW9UibYIwP",
      "include_colab_link": true
    },
    "kernelspec": {
      "name": "python3",
      "display_name": "Python 3"
    },
    "language_info": {
      "name": "python"
    }
  },
  "cells": [
    {
      "cell_type": "markdown",
      "metadata": {
        "id": "view-in-github",
        "colab_type": "text"
      },
      "source": [
        "<a href=\"https://colab.research.google.com/github/monirminaee/test2/blob/main/Untitled26.ipynb\" target=\"_parent\"><img src=\"https://colab.research.google.com/assets/colab-badge.svg\" alt=\"Open In Colab\"/></a>"
      ]
    },
    {
      "cell_type": "code",
      "execution_count": null,
      "metadata": {
        "id": "b2fvbWrszzk-"
      },
      "outputs": [],
      "source": []
    },
    {
      "cell_type": "code",
      "source": [
        "import numpy as np\n",
        "from sklearn.cluster import MeanShift, estimate_bandwidth\n",
        "import alphashape\n",
        "from shapely.geometry import Point\n",
        "import matplotlib.pyplot as plt\n",
        "\n",
        "# نمونه داده\n",
        "coords = np.array([\n",
        "     [35.6892, 51.3890], [35.8400, 50.9390], [35.5690, 51.1670], [35.6590, 50.9180], [35.5994, 51.4392],\n",
        "    [36.2605, 59.6168], [36.2133, 58.7969], [36.2125, 57.6792], [36.4756, 59.1433], [35.2590, 57.9640],\n",
        "\n",
        "    [34.7980, 48.5140], [34.7990, 48.5155]\n",
        "])\n"
      ],
      "metadata": {
        "id": "jln_1jSbw9be"
      },
      "execution_count": null,
      "outputs": []
    }
  ]
}